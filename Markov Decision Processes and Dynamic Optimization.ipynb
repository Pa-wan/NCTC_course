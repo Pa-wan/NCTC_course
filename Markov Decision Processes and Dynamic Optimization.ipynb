{
 "cells": [
  {
   "cell_type": "code",
   "execution_count": 1,
   "metadata": {
    "collapsed": false
   },
   "outputs": [
    {
     "data": {
      "text/html": [
       "<link href='http://fonts.googleapis.com/css?family=Fenix' rel='stylesheet' type='text/css'>\n",
       "<link href='http://fonts.googleapis.com/css?family=Alegreya+Sans:100,300,400,500,700,800,900,100italic,300italic,400italic,500italic,700italic,800italic,900italic' rel='stylesheet' type='text/css'>\n",
       "<link href='http://fonts.googleapis.com/css?family=Source+Code+Pro:300,400' rel='stylesheet' type='text/css'>\n",
       "<style>\n",
       "    @font-face {\n",
       "        font-family: \"Computer Modern\";\n",
       "        src: url('http://mirrors.ctan.org/fonts/cm-unicode/fonts/otf/cmunss.otf');\n",
       "    }\n",
       "    div.cell{\n",
       "        width:1000px;\n",
       "        margin-left:5% !important;\n",
       "        margin-right:auto;\n",
       "    }\n",
       "    h1 {\n",
       "        font-family: 'Alegreya Sans', sans-serif;\n",
       "    }\n",
       "    h2 {\n",
       "        font-family: 'Fenix', serif;\n",
       "    }\n",
       "    h3{\n",
       "\t\tfont-family: 'Fenix', serif;\n",
       "        margin-top:12px;\n",
       "        margin-bottom: 3px;\n",
       "       }\n",
       "\th4{\n",
       "\t\tfont-family: 'Fenix', serif;\n",
       "       }\n",
       "    h5 {\n",
       "        font-family: 'Alegreya Sans', sans-serif;\n",
       "    }\t   \n",
       "    div.text_cell_render{\n",
       "        font-family: 'Alegreya Sans',Computer Modern, \"Helvetica Neue\", Arial, Helvetica, Geneva, sans-serif;\n",
       "        line-height: 135%;\n",
       "        font-size: 150%;\n",
       "        width: 900px;\n",
       "        margin-left:auto;\n",
       "        margin-right:auto;\n",
       "    }\n",
       "    .CodeMirror{\n",
       "            font-family: \"Source Code Pro\";\n",
       "\t\t\tfont-size: 90%;\n",
       "    }\n",
       "/*    .prompt{\n",
       "        display: None;\n",
       "    }*/\n",
       "    .text_cell_render h1 {\n",
       "        font-weight: 200;\n",
       "        font-size: 50pt;\n",
       "\t\tline-height: 100%;\n",
       "        color:#CD2305;\n",
       "        margin-bottom: 0.5em;\n",
       "        margin-top: 0.5em;\n",
       "        display: block;\n",
       "    }\t\n",
       "    .text_cell_render h5 {\n",
       "        font-weight: 300;\n",
       "        font-size: 16pt;\n",
       "        color: #CD2305;\n",
       "        font-style: italic;\n",
       "        margin-bottom: .5em;\n",
       "        margin-top: 0.5em;\n",
       "        display: block;\n",
       "    }\n",
       "    \n",
       "    .warning{\n",
       "        color: rgb( 240, 20, 20 )\n",
       "        }  \n",
       "</style>\n",
       "<script>\n",
       "    MathJax.Hub.Config({\n",
       "                        TeX: {\n",
       "                           extensions: [\"AMSmath.js\"]\n",
       "                           },\n",
       "                tex2jax: {\n",
       "                    inlineMath: [ ['$','$'], [\"\\\\(\",\"\\\\)\"] ],\n",
       "                    displayMath: [ ['$$','$$'], [\"\\\\[\",\"\\\\]\"] ]\n",
       "                },\n",
       "                displayAlign: 'center', // Change this to 'center' to center equations.\n",
       "                \"HTML-CSS\": {\n",
       "                    styles: {'.MathJax_Display': {\"margin\": 4}}\n",
       "                }\n",
       "        });\n",
       "</script>\n"
      ],
      "text/plain": [
       "<IPython.core.display.HTML object>"
      ]
     },
     "execution_count": 1,
     "metadata": {},
     "output_type": "execute_result"
    }
   ],
   "source": [
    "%matplotlib inline\n",
    "from __future__ import division, print_function\n",
    "import pylab as plt\n",
    "import book_format\n",
    "book_format.load_style(name='/styles/custom4.css')"
   ]
  },
  {
   "cell_type": "markdown",
   "metadata": {},
   "source": [
    "# Markov Decision Processes and Dynamic Optimization\n",
    "\n",
    "So far we have seen a number of approaches for calculating optimal decisions from a set of competing alternative actions. However, making optimal decisions when outcomes or events occur over time is more difficult. This is particularly the case when there is uncertainty in the dynamics of the system. That is, the state transitions from one point in time to the next can be influenced by decisions made at each step.\n",
    "\n",
    "## Iterative Decision-making\n",
    "\n",
    "First let's try to characterize the iterative (or sequential) decision-making problem. \n",
    "\n",
    "A decision-maker (or **agent**) is required to make recurring decisions. In a natural resource management setting, this could entail the setting of annual harvest policies (bag or catch limits) or stocking decisions; in an epidemiologic setting, this could be deciding the composition of the annual influenza vaccine based on information from outbreaks in other parts of the world.\n",
    "\n",
    "In principle, sequential decisions may be made in continuous time; for simplicity we will constrain decisions to occur at discrete time steps:\n",
    "\n",
    "$$t = 0, 1, 2, 3, \\ldots$$\n",
    "\n",
    "the decision intervals may or may not be of fixed widths; they may be arbitrary successive deicision-making stages.\n",
    "\n",
    "At each time step $t$, the decision-maker receives some representation of the environment’s **state** $x_t$.\n",
    "\n",
    "$$x_t \\in X$$\n",
    "\n",
    "the state may be univariate or multivariate, and may range from precise low-level instrument readings to high-level categorical descriptors of the environment.\n",
    "\n",
    "Given this state, the decision-maker chooses an **action** $a_t$ from a set of actions whose composition may depend on the state.\n",
    "\n",
    "$$a_t \\in A(x_t)$$\n",
    "\n",
    "Actions too can be specific and fine-grained (*e.g.* setting of waterfowl bag limits and season lengths) or be more general, high-level policy decisions (*e.g.* initiate captive breeding program or build a wildlife refuge).\n",
    "The set of available actions may also be temporally dynamic.\n",
    "\n",
    "Partly as the result of taking this action, the decision-maker receives a numeric **reward**\n",
    "\n",
    "$$r_t \\in R$$\n",
    "\n",
    "and the system moves to a **new state** $s_{t+1}$ as the time step increments.\n",
    "\n",
    "\n",
    "![RL environment](http://fonnesbeck-dropshare.s3.amazonaws.com/Screen-Shot-2015-03-16-08-29-10.png)\n",
    "\n",
    "\n",
    "#### In general, the goal is to maximize the system reward received, over the long run\n",
    "\n",
    "The simplest case is the simple sum of rewards:\n",
    "\n",
    "$$r = r_t + r_{t+1} + \\ldots + r_{T}$$\n",
    "\n",
    "where $T$ is a final time step. This approach makes sense in applications in which there is a natural notion of final time step, that is, systems which are *episodic*. There may be just a single episode, or multiple episodes.\n",
    "\n",
    "In contrast, some problems entail a continual process-control task (or episodes that are so long that they may be considered so). We call these *continuing* tasks. This implies that $T=\\infty$, and the corresponding sum of rewards could itself easily be infinite.\n",
    "\n",
    "In continuing tasks (and even some episodic tasks), we must invoke a **discount rate** $\\gamma \\in [0, 1]$ which determines the present value of future rewards. The rate applies multiplicatively to future rewards:\n",
    "\n",
    "$$r = r_t + \\gamma r_{t+1} + \\gamma^2 r_{t+2} + \\ldots = \\sum_{k=0}^{\\infty} \\gamma^k r_{t+k+1}$$\n",
    "\n",
    "The notion is that a reward received $k$ time steps in the future is worth only $\\gamma^{k-1}$ times what it would be worth if it were received immediately. If $\\gamma < 1$, the infinite sum $r$ has a finite value. \n",
    "\n",
    "Smaller values of $\\gamma$ result in *myopic* behavior; In the special case where $\\gamma = 0$, the decision-maker is concerned only with maximizing current reward.\n",
    "\n",
    "\n",
    "## The Markovian Property\n",
    "\n",
    "It can be useful to model these problems as a discrete time Markov process. Markov processes have the property that the future depends on the current state, but not past states. In other words, the transitions are *conditionally independent* of past states, given the present state.\n",
    "\n",
    "$$\\begin{gathered}\n",
    "\\begin{split}Pr(X_{t+1}=x_{t+1} | X_t=x_t, X_{t-1}=x_{t-1},\\ldots,X_0=x_0) = Pr(X_{t+1}=x_{t+1} | X_t=x_t)\\end{split}\\notag\\\\\\begin{split}\\end{split}\\notag\\end{gathered}$$\n",
    "\n",
    "This is the Markovian property.\n",
    "\n",
    "A **discrete** Markov process is one where the state space is *countable*. It describes movement from state $i$ to state $j$ over some interval of time $\\Delta t$.\n",
    "\n",
    "$$p(X_{t + \\Delta t} = j | X_t = i)$$\n",
    "\n",
    "It is useful to think of the Markovian property as “mild non-independence”."
   ]
  },
  {
   "cell_type": "markdown",
   "metadata": {},
   "source": [
    "## Markov Chains\n",
    "\n",
    "A Markov chain is a special type of discrete Markov process, where the time step $\\Delta t=1$ and the transitions are stationary. Stationarity implies that the transition probabilities are time-homogeneous.\n",
    "\n",
    "$$p_{ij} = p(X_{t + 1} = j | X_t = i)$$\n",
    "\n",
    "> **Homogeneity**: A Markov chain is homogeneous at step t if the transition probabilities are independent of time t.\n",
    "\n",
    "> **Stationarity**: A stationary Markov chain produces the same marginal distribution when multiplied by the transition kernel.\n",
    "\n",
    "The Markov chain wanders about the state space, remembering only where it has just been in the last time step. The collection of transition probabilities is sometimes called a *transition matrix* when dealing with discrete states, or more generally, a *transition kernel*.\n",
    "\n",
    "$$P = \\left[{\n",
    "\\begin{array}{c}\n",
    "  {p_{11}} & {p_{12}} & \\ldots & {p_{1k}}  \\\\\n",
    "  {p_{21}} & {p_{22}} & \\ldots & {p_{2k}}  \\\\\n",
    "  \\vdots & \\vdots & \\ddots & \\vdots \\\\\n",
    "  {p_{k1}} & {p_{k2}} & \\ldots & {p_{kk}}  \\\\\n",
    "\\end{array}\n",
    "}\\right]$$\n",
    "\n",
    "Row $i$ of the matrix are the probabilities of moving from state $i$ to each possible state $j$ (including $i$ itself); hence the rows sum to 1.\n",
    "\n",
    "### Example: stationary Markov chain\n",
    "\n",
    "Consider a Markov transition matrix\n",
    "\n",
    "$$P = \\left[{\n",
    "\\begin{array}{c}\n",
    "  {0.3} & {0.5} & {0.2}  \\\\\n",
    "  {0.6} & {0} & {0.4}  \\\\\n",
    "  {0} & {0.4} & {0.6}  \\\\\n",
    "\\end{array}\n",
    "}\\right]$$\n",
    "\n",
    "The three states in the space are all recurrent aperiodic, and therefore it has a stationary limiting distribution. We can show this by simulating the chain with an arbitrarily-chosen starting distribution."
   ]
  },
  {
   "cell_type": "code",
   "execution_count": 11,
   "metadata": {
    "collapsed": false
   },
   "outputs": [],
   "source": [
    "import numpy as np\n",
    "\n",
    "P = np.array([[0.3, 0.5, 0.2],\n",
    "              [0.6, 0., 0.4],\n",
    "              [0., 0.4, 0.6]])\n",
    "\n",
    "x = [0.5, 0.3, 0.2]"
   ]
  },
  {
   "cell_type": "markdown",
   "metadata": {},
   "source": [
    "After a single transition:"
   ]
  },
  {
   "cell_type": "code",
   "execution_count": 12,
   "metadata": {
    "collapsed": false
   },
   "outputs": [
    {
     "data": {
      "text/plain": [
       "array([ 0.33,  0.33,  0.34])"
      ]
     },
     "execution_count": 12,
     "metadata": {},
     "output_type": "execute_result"
    }
   ],
   "source": [
    "P.T.dot(x)"
   ]
  },
  {
   "cell_type": "markdown",
   "metadata": {},
   "source": [
    "Two transitions:"
   ]
  },
  {
   "cell_type": "code",
   "execution_count": 13,
   "metadata": {
    "collapsed": false
   },
   "outputs": [
    {
     "data": {
      "text/plain": [
       "array([ 0.297,  0.301,  0.402])"
      ]
     },
     "execution_count": 13,
     "metadata": {},
     "output_type": "execute_result"
    }
   ],
   "source": [
    "P.T.dot(P.T.dot(x))"
   ]
  },
  {
   "cell_type": "markdown",
   "metadata": {},
   "source": [
    "Five transitions:"
   ]
  },
  {
   "cell_type": "code",
   "execution_count": 14,
   "metadata": {
    "collapsed": false
   },
   "outputs": [
    {
     "data": {
      "text/plain": [
       "array([ 0.261897,  0.305349,  0.432754])"
      ]
     },
     "execution_count": 14,
     "metadata": {},
     "output_type": "execute_result"
    }
   ],
   "source": [
    "for t in range(5):\n",
    "    x = P.T.dot(x)\n",
    "\n",
    "x"
   ]
  },
  {
   "cell_type": "markdown",
   "metadata": {},
   "source": [
    "Fifteen transitions:"
   ]
  },
  {
   "cell_type": "code",
   "execution_count": 15,
   "metadata": {
    "collapsed": false
   },
   "outputs": [
    {
     "data": {
      "text/plain": [
       "array([ 0.26086929,  0.30434832,  0.43478239])"
      ]
     },
     "execution_count": 15,
     "metadata": {},
     "output_type": "execute_result"
    }
   ],
   "source": [
    "for t in range(10):\n",
    "    x = P.T.dot(x)\n",
    "\n",
    "x"
   ]
  },
  {
   "cell_type": "markdown",
   "metadata": {},
   "source": [
    "If a Markov chain is stationary, we can express two-step (or more) transitions in terms of its constituent one-step transitions. The probability of moving from $i$ to $k$ in two steps is just the product of the probability moving from $i$ to $j$ in one step, and then from $j$ to $k$ in another step, summing over all $j$.\n",
    "\n",
    "$$ p(X_{t+2} = k | X_t = i) = p_{ik}^{(2)} = \\sum_{j=1}^{n_j} p_{ij} p_{jk}$$\n",
    "\n",
    "This generalizes to an arbitrary number of steps by:\n",
    "\n",
    "$$p_{ik}^{(r+s)} = \\sum_{j=1}^{n_j} p_{ij}^{(r)} p_{jk}^{(s)}$$\n",
    "\n",
    "which describes the probability of moving from $i$ to $j$ in $r$ steps, and then from $j$ to $k$ in $s$ steps. This relationship is known as the *Chapman-Kolmogorov* equation."
   ]
  },
  {
   "cell_type": "markdown",
   "metadata": {},
   "source": [
    "### Example: Disease dynamics\n",
    "\n",
    "One can simulate the dynamics of an infectious disease using a discrete Markov process. This example is from Zipkin et al. (2010), which examined an avian disease affecting house ﬁnch (*Carpodacus mexicanus*) populations. The *Mycoplasma gallisepticum* pathogen caused a major epidemic of conjunctivitis in house ﬁnches in 1994, and was modeled by Zipkin et al."
   ]
  },
  {
   "cell_type": "code",
   "execution_count": 16,
   "metadata": {
    "collapsed": false
   },
   "outputs": [
    {
     "data": {
      "text/plain": [
       "array([[ 0.9 ,  0.05,  0.05],\n",
       "       [ 0.1 ,  0.7 ,  0.2 ],\n",
       "       [ 0.  ,  0.  ,  1.  ]])"
      ]
     },
     "execution_count": 16,
     "metadata": {},
     "output_type": "execute_result"
    }
   ],
   "source": [
    "P = np.array([[0.90, 0.05, 0.05],\n",
    "                [0.10, 0.70, 0.20],\n",
    "                [0, 0, 1]])\n",
    "P"
   ]
  },
  {
   "cell_type": "markdown",
   "metadata": {},
   "source": [
    "The rows are the state of a process for a given individual (0 = susceptible, 1 = infected and 2 = dead) at time $t$ and the columns indicate the state of the process at the following time step $t + 1$.\n",
    "\n",
    "Let's use this transition matrix to simulate the disease dynamics of a population of 100 susceptible individuals."
   ]
  },
  {
   "cell_type": "code",
   "execution_count": 17,
   "metadata": {
    "collapsed": true
   },
   "outputs": [],
   "source": [
    "x = [100, 0, 0]"
   ]
  },
  {
   "cell_type": "markdown",
   "metadata": {},
   "source": [
    "For each step in the process, the transition matrix will be multiplied by the current vector of states, to yield an updated vector of states."
   ]
  },
  {
   "cell_type": "code",
   "execution_count": 18,
   "metadata": {
    "collapsed": false
   },
   "outputs": [],
   "source": [
    "# Initialize list with initial states\n",
    "X = [x]\n",
    "\n",
    "for t in range(20):\n",
    "    # Calculate transistion\n",
    "    new_x = P.T.dot(X[-1])\n",
    "    # Append new vector to list\n",
    "    X.append(new_x)"
   ]
  },
  {
   "cell_type": "code",
   "execution_count": 19,
   "metadata": {
    "collapsed": false
   },
   "outputs": [
    {
     "data": {
      "text/plain": [
       "[<matplotlib.lines.Line2D at 0x112021668>,\n",
       " <matplotlib.lines.Line2D at 0x112021908>,\n",
       " <matplotlib.lines.Line2D at 0x112021b38>]"
      ]
     },
     "execution_count": 19,
     "metadata": {},
     "output_type": "execute_result"
    },
    {
     "data": {
      "image/png": "[encoded data removed]",
      "text/plain": [
       "<matplotlib.figure.Figure at 0x111f0be80>"
      ]
     },
     "metadata": {},
     "output_type": "display_data"
    }
   ],
   "source": [
    "%matplotlib inline\n",
    "import pylab as pl\n",
    "\n",
    "pl.plot(X)"
   ]
  },
  {
   "cell_type": "markdown",
   "metadata": {},
   "source": [
    "The Markov assumption greatly simplifies the sequential decision analysis problem. If we had to model the process generally, we would be specifying:\n",
    "\n",
    "$$Pr(r_{t+1}, s_{t+1} | r_t, s_t, a_t, r_{t-1}, s_{t-1}, a_{t-1}, \\ldots, r_0, s_0, a_0)$$\n",
    "\n",
    "If we are able to assume conditional independence, then we can drop much of this, so the model becomes:\n",
    "\n",
    "$$Pr(r_{t+1}, s_{t+1} | r_t, s_t, a_t)$$\n",
    "\n",
    "By iterating this equation, one can predict all future states and expected rewards from knowledge only of the current state just as well as if one had the complete history up to the current time.\n",
    "\n",
    "## Markov Decision Process\n",
    "\n",
    "A Markov process where the transition probabilities can be influence by the actions of a decision-maker is called a Markov decision process.\n",
    "\n",
    "A Markov decision process (MDP) is defined by the available states and alternative actions, as described above, as well as by the state dynamics inherent to the environment.\n",
    "\n",
    "Given any state and action, $x$ and $a$, the probability of each possible next state, $x^{\\prime}$, is described by the **state dynamics function**:\n",
    "\n",
    "$$f(x^{\\prime} | x, a) = Pr(X_{t+1}=x^{\\prime} | X_t=x, A_t=a)$$\n",
    "\n",
    "These probabilities correspond to the elements in the transmission matrix, as described in the Markov chain discussion.\n",
    "\n",
    "For any current state and action, $x$ and $a$, together with any next state, $x^{\\prime}$, the expected value of the next reward is:\n",
    "\n",
    "$$r(x, a, x^{\\prime}) = E[r_{t+1} | X_t=x, A_t=a, X_{t+1}=x^{\\prime}]$$\n",
    "\n",
    "\n",
    "\n",
    "![MDP](http://fonnesbeck-dropshare.s3.amazonaws.com/markov_decision_process.png)\n",
    "\n",
    "\n",
    "In some real-world problems, the actual system state is not entirely known by the decision maker, rendering the states only partially observable. Such MDPs are known as **partially-observable Markov decision processes** (POMDP).\n",
    "\n",
    "The sequence of the decision rules to be used at each decision point can be summarized as a **policy**, which is a function that maps states to actions:\n",
    "\n",
    "$$\\pi_t : S_t \\mapsto A_t$$\n",
    "\n",
    "If the policy is stationary, then that $\\pi_t = \\pi$ (*i.e.* the policy does not change over time)\n",
    "\n",
    "We can denote the influence of a policy on the Markov transitions by:\n",
    "\n",
    "$$p_{\\pi}(X_{t+1} = j | X_t = i)$$\n",
    "\n",
    "Which implies that the state-specific decision at each step is taken from $\\pi$.\n"
   ]
  },
  {
   "cell_type": "markdown",
   "metadata": {},
   "source": [
    "## Value functions\n",
    "\n",
    "We can compare competing MDP policies by evaluating their performance in terms of value. A **value function** is a function of the system state that is an estimate of how good it is to be in that state. This value is in terms of *expected future rewards*. Since the expected future rewards, as shown above, are a function of the state-specific actions taken at each decision step, we can use the value function to discriminate among different policies that may be used to selection actions.\n",
    "\n",
    "The value of state $x$ under policy $\\pi$ is the total expected (discounted) system reward for starting in state $x$, and following policy $\\pi$ thereafter.\n",
    "\n",
    "$$V_{\\pi}(x) = E_{\\pi}[r | X_t=x] = E_{\\pi} \\left[ \\sum_{k=0}^{\\infty} \\gamma^k r_{t+k+1} \\big| X_t=x \\right]$$\n",
    "\n",
    "this is the state-value function for policy $\\pi$.\n",
    "\n",
    "Note that in some applications, the value function is in terms of state-action pairs, thereby describing how good it is to perform a particular action from a particular state, following policy $\\pi$ thereafter.\n",
    "\n",
    "$$Q_{\\pi}(x, a) = E_{\\pi}[r | X_t=x, A_t=a] = E_{\\pi} \\left[ \\sum_{k=0}^{\\infty} \\gamma^k r_{t+k+1} \\big| X_t=x, A_t=a \\right]$$\n",
    "\n",
    "Note that the value function can be written recursively:\n",
    "\n",
    "$$\\begin{aligned}V_{\\pi}(x) &= E_{\\pi}[r | X_t=x] \\\\\n",
    "&= E_{\\pi} \\left[ \\sum_{k=0}^{\\infty} \\gamma^k r_{t+k+1} \\big| X_t=x \\right] \\\\\n",
    "&= E_{\\pi} \\left[ r_{t+1} + \\gamma \\sum_{k=0}^{\\infty} \\gamma^k r_{t+k+2} \\big| X_t=x \\right] \\\\\n",
    "&= r(x, a, x^{\\prime}) + \\gamma E_{\\pi} \\left[\\sum_{k=0}^{\\infty} \\gamma^k r_{t+k+2} \\big| X_t=x \\right] \\\\\n",
    "&= r(x, a, x^{\\prime}) + \\gamma \\sum_{x^{\\prime}} f(x^{\\prime} | x, a) \\color{red}{V_{\\pi}(x^{\\prime})}\n",
    "\\end{aligned}$$\n",
    "\n",
    "This expression is the **Bellman equation** for $V_{\\pi}$. The Bellman equation averages over all the candidate next states $x^{\\prime} \\in X$, weighting each by its probability of occurring as specified by the state dynamics function. \n",
    "\n",
    "It states that the value of the start state must equal the (discounted) value of the expected next state, plus the reward expected along the way."
   ]
  },
  {
   "cell_type": "markdown",
   "metadata": {},
   "source": [
    "## Optimizing MDPs\n",
    "\n",
    "In order to solve our decision analysis problem, we have to identify a policy that maximizes the long-run expected rewards. We now have a way to achieve this: *optimize Bellman's equation*.\n",
    "\n",
    "An optimal policy $\\pi^*$ maximizes $V_{\\pi}(x)$ for all $x \\in X$. The value function under this policy is the optimal value function:\n",
    "\n",
    "$$V^*(x) = \\max_{\\pi}V_{\\pi^*}(x)$$\n",
    "\n",
    "Bellman's equation allows us to approach the optimization problem into smaller, recursive sub-problems. In fact, Bellman's **Principle of Optimality** states this explicitly:\n",
    "\n",
    "> An optimal policy has the property that whatever the intial state and initial decision are, the remaining decisions must constitute an optimal policy with regard to the state resulting from the first decision."
   ]
  },
  {
   "cell_type": "markdown",
   "metadata": {},
   "source": [
    "## Value Iteration\n",
    "\n",
    "There are 2 fundamental DP algorithms to solve infinite-horizon discounted MDPs: \n",
    "\n",
    "1. value iteration \n",
    "2. policy iteration  \n",
    "\n",
    "Value iteration starts with an arbitrary value for each state and, at each iteration, solves Bellman's equation using the value from the previous iteration until the difference between successive values becomes sufficiently small.\n",
    "\n",
    "It starts with an **arbitrary decision rule** and finds its value; if an improvement in the current decision rule is possible, using the current value function estimate, then the algorithm will find it; otherwise, the algorithm will stop, yielding the optimal decision rule.\n",
    "\n",
    "in many situations, the stationary assumption is not reasonable, such as when the transition probability represents the probability of a disease outcome that is increasing over time or when agedependent mortality is involved\n",
    "\n",
    "Policy iteration algorithm finds the value of a policy by applying the backward induction algorithm"
   ]
  },
  {
   "cell_type": "markdown",
   "metadata": {},
   "source": [
    "## Value Iteration\n",
    "\n",
    "Consider a simple, contrived example of a taxi driver attempting to maximize fares. The taxi serves two adjacent towns: A and B. Each time the taxi discharges a passenger, the driver must can choose from two possible actions:\n",
    "\n",
    "1. **Cruise** the streets looking for a passenger.\n",
    "2. Go to the nearest taxi **stand** (hotel, train station, etc.)\n",
    "\n",
    "Passengers picked up while cruising tend to stay in the same city, while those from the taxi stand have  higher probability of moving to the other city. \n",
    "\n",
    "City B pays higher fares, than city A.\n",
    "\n",
    "Cruising fares are higher than standing fares in city A, while the opposite is true in city B.\n",
    "\n",
    "*What is the optimal behavior in each state?*"
   ]
  },
  {
   "cell_type": "code",
   "execution_count": 122,
   "metadata": {
    "collapsed": false
   },
   "outputs": [],
   "source": [
    "# States\n",
    "A, B = 0, 1\n",
    "CRUISE, STAND = 0, 1\n",
    "\n",
    "# State transitions\n",
    "T = {CRUISE: {\n",
    "    A: {A: 0.9, B: 0.1}, \n",
    "    B: {A: 0.1, B: 0.9}\n",
    "},\n",
    "    STAND: {\n",
    "    A: {A: 0.4, B: 0.6}, \n",
    "    B: {A: 0.6, B: 0.4}\n",
    "}}\n",
    "\n",
    "# Rewards\n",
    "R = {\n",
    "    CRUISE: {A: 8, B: 20}, \n",
    "    STAND: {A: 5, B: 22}\n",
    "}\n"
   ]
  },
  {
   "cell_type": "code",
   "execution_count": 124,
   "metadata": {
    "collapsed": true
   },
   "outputs": [],
   "source": [
    "states = [A, B]\n",
    "actions = [CRUISE, STAND]"
   ]
  },
  {
   "cell_type": "markdown",
   "metadata": {},
   "source": [
    "Next, we need to intitialize the data structures for storing values, indexed by states and actions:"
   ]
  },
  {
   "cell_type": "code",
   "execution_count": 125,
   "metadata": {
    "collapsed": true
   },
   "outputs": [],
   "source": [
    "V = {}\n",
    "V2 = {}\n",
    "logs = {}\n",
    "\n",
    "for s in states:\n",
    "    logs[s] = {}\n",
    "    for a in actions:\n",
    "        logs[s][a] = []\n",
    "             \n",
    "for s in states:\n",
    "    V[s] = 0\n",
    "    V2[s] = 0"
   ]
  },
  {
   "cell_type": "markdown",
   "metadata": {},
   "source": [
    "Model parameters, including tolerance for convergence and the desired discount rate:"
   ]
  },
  {
   "cell_type": "code",
   "execution_count": 129,
   "metadata": {
    "collapsed": true
   },
   "outputs": [],
   "source": [
    "# Convergence criterion\n",
    "epsilon = 0.0001\n",
    "# Discount rate\n",
    "gamma = 0.8\n",
    "# Maximum number of iterations\n",
    "max_iters = 100"
   ]
  },
  {
   "cell_type": "code",
   "execution_count": 126,
   "metadata": {
    "collapsed": false
   },
   "outputs": [
    {
     "name": "stdout",
     "output_type": "stream",
     "text": [
      "Iterations: 56\n"
     ]
    }
   ],
   "source": [
    "for iteration in range(max_iters):\n",
    "    for s in states:\n",
    "        \n",
    "        value_candidates = []\n",
    "        for a in actions:\n",
    "            value = R[a][s] + gamma * sum(T[a][s][s2]*V[s2] for s2 in states)\n",
    "            value_candidates.append(value)\n",
    "            logs[s][a].append(value)\n",
    "            \n",
    "        # Choose the largest candidate value\n",
    "        V2[s] =max(value_candidates)\n",
    "        \n",
    "    # If there is no change from the last estimate, we are done\n",
    "    if max(abs(V2[s] - V[s]) for s in states) < epsilon:\n",
    "        break\n",
    "    else:\n",
    "        V, V2 = V2, {}\n",
    "        \n",
    "print(\"Iterations: %i\" % len(logs[A][STAND]))"
   ]
  },
  {
   "cell_type": "code",
   "execution_count": 127,
   "metadata": {
    "collapsed": false
   },
   "outputs": [
    {
     "name": "stdout",
     "output_type": "stream",
     "text": [
      "State: A Action: CRUISE --> 67.473360\n",
      "State: A Action: STAND --> 72.368097\n",
      "State: B Action: CRUISE --> 92.104939\n",
      "State: B Action: STAND --> 86.210202\n"
     ]
    }
   ],
   "source": [
    "for s in states:\n",
    "    for a in actions:\n",
    "        value = R[a][s] + gamma * sum(T[a][s][s2]*V[s2] for s2 in states)\n",
    "        print(\"State: %s Action: %s --> %f\" % (['A', 'B'][s], ['CRUISE', 'STAND'][a], value))"
   ]
  },
  {
   "cell_type": "code",
   "execution_count": 128,
   "metadata": {
    "collapsed": false
   },
   "outputs": [
    {
     "data": {
      "text/plain": [
       "<matplotlib.legend.Legend at 0x11894cac8>"
      ]
     },
     "execution_count": 128,
     "metadata": {},
     "output_type": "execute_result"
    },
    {
     "data": {
      "image/png": "[encoded data removed]",
      "text/plain": [
       "<matplotlib.figure.Figure at 0x118a7bfd0>"
      ]
     },
     "metadata": {},
     "output_type": "display_data"
    }
   ],
   "source": [
    "%matplotlib inline\n",
    "import pylab as pl\n",
    "\n",
    "x_axis = range(1, 1 + len(logs[A][STAND]))\n",
    "for s in states:\n",
    "    for a in actions:\n",
    "        pl.plot(x_axis, logs[s][a], label=\"State %s, Action %s\" % (['A', 'B'][s], ['CRUISE', 'STAND'][a]), \n",
    "                linewidth=0.9)\n",
    "pl.legend(loc=4)"
   ]
  },
  {
   "cell_type": "markdown",
   "metadata": {},
   "source": [
    "## Dynamic Programming: Backward Induction\n",
    "\n",
    "\n",
    "Initialize the optimal value fuction (lookup table) $v^*_{t+1}(x\\_{t+1}) = v_T(x_T)$\n",
    "\n",
    "For each value of $x_t$, $a_t$, $z_t$ compute the next state:\n",
    "\n",
    "$$x_{t+1} = f_t(x_t, a_t, z_t)$$\n",
    "\n",
    "along with the associated probability \n",
    "\n",
    "$$Pr[x_{t+1} = f_t(x_t a_t, z_t)] = p(z_t | x_t, a_t)$$\n",
    "\n",
    "Compute the optimal value function for the current time step\n",
    "\n",
    "$$V_t^*(x_t) = \\max_{a_t \\in A_t} \\left[ \\sum_{z_t \\in Z_t} p(z_t|a_t,z_t)[v^*_{t+1}(x_{t+1}) + r_t(x_t, x_{t+1},a_t,z_t)]\\right] $$ \n",
    "\n",
    "However, we cannot evaluate $v^*_{t+1}(x\\_{t+1})$ directly, since it is a function of discrete values of $x_t$. Thus, an interpolation must be performed:\n",
    "\n",
    "$$v^*_{t+1}(x\\_{t+1}) = L(v^*_{t+1}(X\\_{t+1}), x_{t+1})$$\n",
    "\n",
    "where $L$ is the linear interpolation function.\n",
    "\n",
    "We then substitute the state dynamics function into the value function, so that it is expressed in terms of values at time $t$:\n",
    "\n",
    "$$V_t^*(x_t) = \\max_{a_t \\in A_t} \\left[ \\sum_{z_t \\in Z_t} p(z_t|a_t,z_t)[L(v^*_{t+1}(X\\_{t+1}), \\color{red}{f_t(x_t, a_t, z_t)}) + r_t(x_t, x_{t+1},a_t,z_t)]\\right] $$ \n",
    "\n",
    "\n"
   ]
  },
  {
   "cell_type": "markdown",
   "metadata": {},
   "source": [
    "### Mangel and Clark example\n",
    "\n",
    "Marc Mangel and Colin Clark applied stochastic dynamic programming to address behavioral ecology problems. In this case, the \"decision-maker\" is an individual organism that presumably is optimizing some measure of biological fitness in the face of various constraints and tradeoffs.\n",
    "\n",
    "Consider a simple patch dynamics model: an organism has three patches available to it. Two patches are feeding patches, and a third is a reproductive patch, where it can lay eggs. In the feeding patches, the food resources are used to enhance both survival and reproduction. At the end of the season, the organism may reproduce prior to dying. Each of the three patches has different costs and risks. There is an energetic cost $a_i$, a mortality risk $m_i$, a feeding probability $p_i$, and an energetic value of food $y_i$ for each patch:"
   ]
  },
  {
   "cell_type": "code",
   "execution_count": 73,
   "metadata": {
    "collapsed": false
   },
   "outputs": [
    {
     "data": {
      "text/html": [
       "<div style=\"max-height:1000px;max-width:1500px;overflow:auto;\">\n",
       "<table border=\"1\" class=\"dataframe\">\n",
       "  <thead>\n",
       "    <tr style=\"text-align: right;\">\n",
       "      <th></th>\n",
       "      <th>m</th>\n",
       "      <th>p</th>\n",
       "      <th>y</th>\n",
       "    </tr>\n",
       "  </thead>\n",
       "  <tbody>\n",
       "    <tr>\n",
       "      <th>1</th>\n",
       "      <td> 0.01</td>\n",
       "      <td> 0.2</td>\n",
       "      <td> 2</td>\n",
       "    </tr>\n",
       "    <tr>\n",
       "      <th>2</th>\n",
       "      <td> 0.05</td>\n",
       "      <td> 0.5</td>\n",
       "      <td> 4</td>\n",
       "    </tr>\n",
       "    <tr>\n",
       "      <th>3</th>\n",
       "      <td> 0.02</td>\n",
       "      <td> 0.0</td>\n",
       "      <td> 0</td>\n",
       "    </tr>\n",
       "  </tbody>\n",
       "</table>\n",
       "</div>"
      ],
      "text/plain": [
       "      m    p  y\n",
       "1  0.01  0.2  2\n",
       "2  0.05  0.5  4\n",
       "3  0.02  0.0  0"
      ]
     },
     "execution_count": 73,
     "metadata": {},
     "output_type": "execute_result"
    }
   ],
   "source": [
    "m = [.01, .05, .02]\n",
    "p = [.2, .5, 0]\n",
    "y = [2, 4, 0]\n",
    "\n",
    "pd.DataFrame({'m': m, 'p': p, 'y':y}, index=(1,2,3))"
   ]
  },
  {
   "cell_type": "code",
   "execution_count": 23,
   "metadata": {
    "collapsed": true
   },
   "outputs": [],
   "source": [
    "def V(n,x,t,f):\n",
    "    \"\"\"\n",
    "    Calculate the reproductive success for behaviour n at energy x, time t\n",
    "    in the fitness array f.\n",
    "    \"\"\"\n",
    "    if n<2:\n",
    "        # forages\n",
    "        x1 = chop( x+y[n]-cost, 0, xmax ) \n",
    "        x2 = chop( x-cost, 0, xmax )\n",
    "        return (1.0 - m[n]) * (p[n] * f[x1,t+1] + (1.0 - p[n]) * f[x2,t+1])\n",
    "    else:\n",
    "        # tries to reproduce\n",
    "        if x < xrep: # can't reproduce\n",
    "            reproduction = 0\n",
    "            x1 = chop(x-cost,0,xmax)\n",
    "        elif x < xrep+c3: # limited reproduction\n",
    "            reproduction = x - xrep\n",
    "            x1 = chop(xrep-cost,0,xmax)\n",
    "        else: # full reproduction\n",
    "            reproduction = c3;\n",
    "            x1 = chop(x-cost-c3, 0, xmax)\n",
    "        return reproduction + (1.0 - m[n]) * f[x1,t+1]\n",
    "    \n",
    "def chop(x, min, max):\n",
    "    \"\"\"\n",
    "    Return x, pushed into the range [min...max]\n",
    "    \"\"\"\n",
    "    if min<=x and x<=max:\n",
    "        return x\n",
    "    elif x<min:\n",
    "        return min\n",
    "    else:\n",
    "        return max"
   ]
  },
  {
   "cell_type": "code",
   "execution_count": 24,
   "metadata": {
    "collapsed": false
   },
   "outputs": [],
   "source": [
    "listmax = lambda x: (np.max(x), np.argmax(x))\n",
    "\n",
    "def update(f, dec, t):\n",
    "    \"\"\"\n",
    "    Calculate the values for time t in the arrays f and dec.\n",
    "    \"\"\"\n",
    "    f[0,t] = 0.0\n",
    "    for x in range(1,xmax+1):\n",
    "        choices = [];\n",
    "        for n in range(3):\n",
    "            choices.append( V(n,x,t,f) )\n",
    "            \n",
    "        (f[x,t], dec[x,t]) = listmax(choices)\n",
    "        \n",
    "    return f, dec"
   ]
  },
  {
   "cell_type": "code",
   "execution_count": 25,
   "metadata": {
    "collapsed": true
   },
   "outputs": [],
   "source": [
    "def initialize(f):\n",
    "    \"\"\"\n",
    "    Initialize the last column (t=tmax) of f.\n",
    "    \"\"\"\n",
    "    for x in range(xmax+1):\n",
    "        f[x,tmax] = acap*x/(x + x0)"
   ]
  },
  {
   "cell_type": "code",
   "execution_count": 26,
   "metadata": {
    "collapsed": true
   },
   "outputs": [],
   "source": [
    "xmax = 30\n",
    "xrep = 4\n",
    "tmax = 20\n",
    "\n",
    "cost = 1\n",
    "c3 = 4\n",
    "acap = 60.0\n",
    "x0 = 0.25*xmax\n",
    "xint = 2"
   ]
  },
  {
   "cell_type": "code",
   "execution_count": 27,
   "metadata": {
    "collapsed": false
   },
   "outputs": [],
   "source": [
    "f = np.zeros((xmax+1,tmax+1), float)\n",
    "dec = np.zeros((xmax+1,tmax+1), int)\n",
    "initialize(f)"
   ]
  },
  {
   "cell_type": "code",
   "execution_count": 28,
   "metadata": {
    "collapsed": false
   },
   "outputs": [],
   "source": [
    "import pandas as pd\n",
    "\n",
    "output = []\n",
    "for t in range(tmax-1,0,-1):\n",
    "    f, dec = update(f, dec, t)\n",
    "    for x in range(1,xmax+1):\n",
    "        output.append(( x, dec[x,t]+1, f[x,t], t ))"
   ]
  },
  {
   "cell_type": "code",
   "execution_count": 29,
   "metadata": {
    "collapsed": false
   },
   "outputs": [],
   "source": [
    "output = pd.DataFrame(output, columns=['x', 'dec', 'f', 't'])"
   ]
  },
  {
   "cell_type": "code",
   "execution_count": 65,
   "metadata": {
    "collapsed": true
   },
   "outputs": [],
   "source": [
    "sb.heatmap?"
   ]
  },
  {
   "cell_type": "code",
   "execution_count": 130,
   "metadata": {
    "collapsed": false
   },
   "outputs": [
    {
     "data": {
      "text/plain": [
       "<matplotlib.axes._subplots.AxesSubplot at 0x118bf39b0>"
      ]
     },
     "execution_count": 130,
     "metadata": {},
     "output_type": "execute_result"
    },
    {
     "data": {
      "image/png": "[encoded data removed]",
      "text/plain": [
       "<matplotlib.figure.Figure at 0x118bfd240>"
      ]
     },
     "metadata": {},
     "output_type": "display_data"
    }
   ],
   "source": [
    "import seaborn as sb\n",
    "\n",
    "sb.heatmap(output.pivot(index='x', columns='t', values='dec'), linewidths=0.01, cmap='Reds', cbar=False)"
   ]
  },
  {
   "cell_type": "markdown",
   "metadata": {},
   "source": [
    "## Dynamic Programming"
   ]
  },
  {
   "cell_type": "code",
   "execution_count": 39,
   "metadata": {
    "collapsed": false
   },
   "outputs": [
    {
     "data": {
      "text/plain": [
       "(0, 0, 0)"
      ]
     },
     "execution_count": 39,
     "metadata": {},
     "output_type": "execute_result"
    }
   ],
   "source": [
    "import mdptoolbox.example\n",
    "P, R = mdptoolbox.example.forest()\n",
    "vi = mdptoolbox.mdp.ValueIteration(P, R, 0.9)\n",
    "vi.run()\n",
    "vi.policy # result is (0, 0, 0)"
   ]
  },
  {
   "cell_type": "markdown",
   "metadata": {},
   "source": [
    "## Case Study: Optimal fire management of a threatened species"
   ]
  },
  {
   "cell_type": "markdown",
   "metadata": {},
   "source": [
    "We will apply dynamic optimization methods implemented in **PyMDPtoolbox**, a Markov decison process (MDP) toolbox for Python. An early application of these methods to wildlife biology was by Possingham and Tuck (1997), which examines the problem of deriving an optimal fire managment strategy for the conservation of endangered vertebrates.\n",
    "\n",
    "The Possingham and Tuck model models the spatial structure of the populations in question, but for simplicity, we will simplify the model to a single patch here.\n",
    "\n",
    "First, we need to specify the dimensions of the problem. In the Possingham and Tuck problem, there are seven population abundance classes (`pop_classes`), including exctinction (0), there are 13 fire classes (`fire_classes`), which represent the number of years since the last burn. The system state is made up of all pairwise combinations of population and fire classes. Since there is no population structure in this problem, there are only two possible actions, `burn` or `no_burn`."
   ]
  },
  {
   "cell_type": "code",
   "execution_count": 40,
   "metadata": {
    "collapsed": true
   },
   "outputs": [],
   "source": [
    "n_pop_classes = 7\n",
    "n_fire_classes = 13\n",
    "\n",
    "states = [(p, f) for p in range(n_pop_classes) for f in range(n_fire_classes)]\n",
    "n_states = len(states)\n",
    "\n",
    "no_burn, burn = 0, 1"
   ]
  },
  {
   "cell_type": "markdown",
   "metadata": {},
   "source": [
    "### Input validation\n",
    "\n",
    "The key to reliable scientific computing is to write tests for all the important steps in your program. To facilitate this, we need test functions to validate the inputs to various functions that we will define. We’re going to want to send the action, population class, fire class, and a probability as input to multiple functions. Each of these functions will raise an exception for invalid entries, and let us know what was passed to the function, versus what was expected."
   ]
  },
  {
   "cell_type": "code",
   "execution_count": 41,
   "metadata": {
    "collapsed": false
   },
   "outputs": [],
   "source": [
    "def check_action(x):\n",
    "    \"\"\"Check that the action is in the valid range.\"\"\"\n",
    "    if not x in [0,1]:\n",
    "        msg = \"Invalid action '%i', it should be in {0, 1}.\" % x\n",
    "        raise ValueError(msg)\n",
    "\n",
    "def check_population_class(x):\n",
    "    \"\"\"Check that the population abundance class is in the valid range.\"\"\"\n",
    "    if not (0 <= x < n_pop_classes):\n",
    "        msg = \"Invalid population class '%i', it should be in {0, 1, …, %d}.\" \\\n",
    "              % (x, n_pop_classes - 1)\n",
    "        raise ValueError(msg)\n",
    "\n",
    "def check_fire_class(x):\n",
    "    \"\"\"Check that the time in years since last fire is in the valid range.\"\"\"\n",
    "    if not (0 <= x < n_fire_classes):\n",
    "        msg = \"Invalid fire class '%i', it should be in {0, 1, …, %d}.\" % \\\n",
    "              (x, n_fire_classes - 1)\n",
    "        raise ValueError(msg)\n",
    "\n",
    "def check_probability(x, name=\"probability\"):\n",
    "    \"\"\"Check that a probability is between 0 and 1.\"\"\"\n",
    "    if not (0 <= x <= 1):\n",
    "        msg = \"Invalid %s '%i', it must be in [0, 1].\" % (name, x)\n",
    "        raise ValueError(msg)\n",
    "        \n",
    "def check_states(x):\n",
    "    if not (0 <= x < n_states):\n",
    "        msg = \"Invalid index '%i', it should be in {0, 1, …, %d}.\" % (x, STATES - 1)\n",
    "        raise ValueError(msg)\n"
   ]
  },
  {
   "cell_type": "markdown",
   "metadata": {},
   "source": [
    "### Habitat suitability\n",
    "\n",
    "The core of our habitat model is a simple relationship between habitat suitability and the number of years since the last fire."
   ]
  },
  {
   "cell_type": "code",
   "execution_count": 42,
   "metadata": {
    "collapsed": true
   },
   "outputs": [],
   "source": [
    "def get_habitat_suitability(years):\n",
    "    \"\"\"The habitat suitability of a patch relatve to the time since last fire.\n",
    "\n",
    "    The habitat quality is low immediately after a fire, rises rapidly until\n",
    "    five years after a fire, and declines once the habitat is mature. See\n",
    "    Figure 2 in Possingham and Tuck (1997) for more details.\n",
    "\n",
    "    Parameters\n",
    "    ----------\n",
    "    years : int\n",
    "        The time in years since last fire.\n",
    "\n",
    "    Returns\n",
    "    -------\n",
    "    r : float\n",
    "        The habitat suitability.\n",
    "\n",
    "    \"\"\"\n",
    "    if years < 0:\n",
    "        msg = \"Invalid years '%s', it should be positive.\" % str(years)\n",
    "        raise ValueError(msg)\n",
    "    if years <= 5:\n",
    "        return 0.2*years\n",
    "    elif years <= 10:\n",
    "        return -0.1*years + 1.5\n",
    "    else:\n",
    "        return 0.5"
   ]
  },
  {
   "cell_type": "markdown",
   "metadata": {},
   "source": [
    "We can see the form of this relationship by passing a range of values to `get_habitat_suitability`"
   ]
  },
  {
   "cell_type": "code",
   "execution_count": 43,
   "metadata": {
    "collapsed": false
   },
   "outputs": [
    {
     "data": {
      "image/png": "[encoded data removed]",
      "text/plain": [
       "<matplotlib.figure.Figure at 0x117e8ae80>"
      ]
     },
     "metadata": {},
     "output_type": "display_data"
    }
   ],
   "source": [
    "t = range(15)\n",
    "pl.plot(list(t), [get_habitat_suitability(ti) for ti in t])\n",
    "pl.xlabel('Years since burn')\n",
    "pl.ylabel('Habitat suitability index');"
   ]
  },
  {
   "cell_type": "markdown",
   "metadata": {},
   "source": [
    "### System states\n",
    "\n",
    "Recall from the discussion of state transition matrices that we can project a state vector into the next state by multiplying it by a matrix of transition probabilities. Each row in the matrix represents a state that the system can start in, while the columns represent the states that the system can transition to. `PyMDPtoolbox` handles state transitions exactly in this way, by matrix multiplication. We will specify one transition probability matrix for each action, `no_burn` and `burn`. PyMDPtoolbox expects a NumPy array as the data structure, since it has fast, built-in methods for performing linear algebra operations."
   ]
  },
  {
   "cell_type": "markdown",
   "metadata": {},
   "source": [
    "### Reward function\n",
    "\n",
    "Here, the reward function returns a chosen measure of habitat quality. Depending on the implementation of the MDP, a reward function can be in terms of just the state, or as a function of state-action pairs. For this example, we only need to specify reward as a function of state. The reward is simple: where the population is still extant, the state recieves a one, otherwise it is zero.\n",
    "\n",
    "### State space representation\n",
    "\n",
    "Functionally, each state is uniquely identified by an index into the transition probability matrix, but in the real world, we think of the state as a tuple containing the population abundance class and the number of years since the last fire. Therefore we need functions to crosswalk between these two representations."
   ]
  },
  {
   "cell_type": "code",
   "execution_count": 44,
   "metadata": {
    "collapsed": true
   },
   "outputs": [],
   "source": [
    "def state_to_index(population, fire):\n",
    "    \"\"\"Convert state parameters to transition probability matrix index.\n",
    "\n",
    "    Parameters\n",
    "    ----------\n",
    "    population : int\n",
    "        The population abundance class of the threatened species.\n",
    "    fire : int\n",
    "        The time in years since last fire.\n",
    "\n",
    "    Returns\n",
    "    -------\n",
    "    index : int\n",
    "        The index into the transition probability matrix that corresponds to\n",
    "        the state parameters.\n",
    "\n",
    "    \"\"\"\n",
    "    check_population_class(population)\n",
    "    check_fire_class(fire)\n",
    "    return population*n_fire_classes + fire"
   ]
  },
  {
   "cell_type": "code",
   "execution_count": 45,
   "metadata": {
    "collapsed": false
   },
   "outputs": [
    {
     "data": {
      "text/plain": [
       "43"
      ]
     },
     "execution_count": 45,
     "metadata": {},
     "output_type": "execute_result"
    }
   ],
   "source": [
    "state_to_index(3, 4)"
   ]
  },
  {
   "cell_type": "code",
   "execution_count": 46,
   "metadata": {
    "collapsed": true
   },
   "outputs": [],
   "source": [
    "def index_to_state(index):\n",
    "    \"\"\"Convert transition probability matrix index to state parameters.\n",
    "\n",
    "    Parameters\n",
    "    ----------\n",
    "    index : int\n",
    "        The index into the transition probability matrix that corresponds to\n",
    "        the state parameters.\n",
    "\n",
    "    Returns\n",
    "    -------\n",
    "    population, fire : tuple of int\n",
    "        ``population``, the population abundance class of the threatened\n",
    "        species. ``fire``, the time in years since last fire.\n",
    "\n",
    "    \"\"\"\n",
    "    if not (0 <= index < n_states):\n",
    "        msg = \"Invalid index '%i', it should be in {0, 1, …, %d}.\" % (index, n_states - 1)\n",
    "        raise ValueError(msg)\n",
    "    population = index // n_fire_classes\n",
    "    fire = index % n_fire_classes\n",
    "    return (population, fire)"
   ]
  },
  {
   "cell_type": "code",
   "execution_count": 47,
   "metadata": {
    "collapsed": false
   },
   "outputs": [
    {
     "data": {
      "text/plain": [
       "(3, 4)"
      ]
     },
     "execution_count": 47,
     "metadata": {},
     "output_type": "execute_result"
    }
   ],
   "source": [
    "index_to_state(43)"
   ]
  },
  {
   "cell_type": "markdown",
   "metadata": {},
   "source": [
    "### State transitions\n",
    "\n",
    "The dynamics of the transition probabilities are given in Section 2.1 and Figure 1 of Possingham and Tuck (1997):\n",
    "\n",
    "![figure 1](http://fonnesbeck-dropshare.s3.amazonaws.com/Screen-Shot-2015-03-15-16-25-39.png)\n",
    "\n",
    "Transition probabilities are calculated row-wise, since each row represents the transitions from the state corresponding to that row to all other states. Hence, it must sum to one.\n",
    "\n",
    "The first component of the state dynamics is the fire state transition, which resets the fire class to zero if burning is performed, or advances to the next fire state if no burning is performed (until the highest fire class)."
   ]
  },
  {
   "cell_type": "code",
   "execution_count": 48,
   "metadata": {
    "collapsed": true
   },
   "outputs": [],
   "source": [
    "def transition_fire_state(F, a):\n",
    "    \"\"\"Transition the years since last fire based on the action taken.\n",
    "\n",
    "    Parameters\n",
    "    ----------\n",
    "    F : int\n",
    "        The time in years since last fire.\n",
    "    a : int\n",
    "        The action undertaken.\n",
    "\n",
    "    Returns\n",
    "    -------\n",
    "    F : int\n",
    "        The time in years since last fire.\n",
    "\n",
    "    \"\"\"\n",
    "\n",
    "    ## Efect of action on time in years since fire.\n",
    "    \n",
    "    if a == burn:\n",
    "        # When the patch is burned set the years since fire to 0.\n",
    "        return 0\n",
    "    \n",
    "    elif (a == no_burn) and (F < n_fire_classes - 1):\n",
    "        # Increase the time since the patch has been burned by one year.\n",
    "        # The years since fire in patch is absorbed into the last class\n",
    "        return F + 1\n",
    "    \n",
    "    else:\n",
    "        return F\n",
    "    "
   ]
  },
  {
   "cell_type": "markdown",
   "metadata": {},
   "source": [
    "Similarly, the abundance transistion dynamics depends on the current abundance: if the abundance is zero, the population is extinct, and stays that way; if the abundance is in its largest state, it can stay there with probability $1−(1−s)(1−r)$, or drop with a probability $(1−s)(1−r)$; if the abundance is at an intermediate state, it can stay in that state with probability $s$, increase with probability $(1-s)r$, or drop with a probability $(1−s)(1−r)$.\n",
    "\n",
    "The following function returns the transition probabilities, calling `transition_fire_state` to get the new fire state."
   ]
  },
  {
   "cell_type": "code",
   "execution_count": 54,
   "metadata": {
    "collapsed": true
   },
   "outputs": [],
   "source": [
    "def get_transition_probabilities(s, x, F, a):\n",
    "    \"\"\"Calculate the transition probabilities for the given state and action.\n",
    "\n",
    "    Parameters\n",
    "    ----------\n",
    "    s : float\n",
    "        The class-independent probability of the population staying in its\n",
    "        current population abundance class.\n",
    "    x : int\n",
    "        The population abundance class of the threatened species.\n",
    "    F : int\n",
    "        The time in years since last fire.\n",
    "    a : int\n",
    "        The action undertaken.\n",
    "\n",
    "    Returns\n",
    "    -------\n",
    "    prob : array\n",
    "        The transition probabilities as a vector from state (``x``, ``F``) to\n",
    "        every other state given that action ``a`` is taken.\n",
    "\n",
    "    \"\"\"\n",
    "    # Check that input is in range\n",
    "    check_probability(s)\n",
    "    check_population_class(x)\n",
    "    check_fire_class(F)\n",
    "    check_action(a)\n",
    "\n",
    "    # a vector to store the transition probabilities\n",
    "    prob = np.zeros(n_states)\n",
    "\n",
    "    # the habitat suitability value\n",
    "    r = get_habitat_suitability(F)\n",
    "    F = transition_fire_state(F, a)\n",
    "\n",
    "    ## Population transitions\n",
    "    if x == 0:\n",
    "        # population abundance class stays at 0 (extinct)\n",
    "        new_state = state_to_index(0, F)\n",
    "        prob[new_state] = 1\n",
    "    elif x == n_pop_classes - 1:\n",
    "        # Population abundance class either stays at maximum or transitions\n",
    "        # down\n",
    "        transition_same = x\n",
    "        transition_down = x - 1\n",
    "        # If action 1 is taken, then the patch is burned so the population\n",
    "        # abundance moves down a class.\n",
    "        if a == burn:\n",
    "            transition_same -= 1\n",
    "            transition_down -= 1\n",
    "        # transition probability that abundance stays the same\n",
    "        new_state = state_to_index(transition_same, F)\n",
    "        prob[new_state] = 1 - (1 - s)*(1 - r)\n",
    "        # transition probability that abundance goes down\n",
    "        new_state = state_to_index(transition_down, F)\n",
    "        prob[new_state] = (1 - s)*(1 - r)\n",
    "    else:\n",
    "        # Population abundance class can stay the same, transition up, or\n",
    "        # transition down.\n",
    "        transition_same = x\n",
    "        transition_up = x + 1\n",
    "        transition_down = x - 1\n",
    "        # If action 1 is taken, then the patch is burned so the population\n",
    "        # abundance moves down a class.\n",
    "        if a == burn:\n",
    "            transition_same -= 1\n",
    "            transition_up -= 1\n",
    "            # Ensure that the abundance class doesn't go to -1\n",
    "            if transition_down > 0:\n",
    "                transition_down -= 1\n",
    "        # transition probability that abundance stays the same\n",
    "        new_state = state_to_index(transition_same, F)\n",
    "        prob[new_state] = s\n",
    "        # transition probability that abundance goes up\n",
    "        new_state = state_to_index(transition_up, F)\n",
    "        prob[new_state] = (1 - s)*r\n",
    "        # transition probability that abundance goes down\n",
    "        new_state = state_to_index(transition_down, F)\n",
    "        # In the case when transition_down = 0 before the effect of an action\n",
    "        # is applied, then the final state is going to be the same as that for\n",
    "        # transition_same, so we need to add the probabilities together.\n",
    "        prob[new_state] += (1 - s)*(1 - r)\n",
    "\n",
    "    # Make sure that the probabilities sum to one\n",
    "    assert (prob.sum() - 1) < np.spacing(1)\n",
    "    return prob"
   ]
  },
  {
   "cell_type": "markdown",
   "metadata": {},
   "source": [
    "Now we loop over the states and actions, getting the transition probabilities and fill in the transition probability matrix."
   ]
  },
  {
   "cell_type": "code",
   "execution_count": 55,
   "metadata": {
    "collapsed": true
   },
   "outputs": [],
   "source": [
    "def get_transition_and_reward_arrays(s):\n",
    "    \"\"\"Generate the fire management transition and reward matrices.\n",
    "\n",
    "    The output arrays from this function are valid input to the mdptoolbox.mdp\n",
    "    classes.\n",
    "\n",
    "    Let ``S`` = number of states, and ``A`` = number of actions.\n",
    "\n",
    "    Parameters\n",
    "    ----------\n",
    "    s : float\n",
    "        The class-independent probability of the population staying in its\n",
    "        current population abundance class.\n",
    "\n",
    "    Returns\n",
    "    -------\n",
    "    out : tuple\n",
    "        ``out[0]`` contains the transition probability matrices P and\n",
    "        ``out[1]`` contains the reward vector R. P is an  ``A`` × ``S`` × ``S``\n",
    "        numpy array and R is a numpy vector of length ``S``.\n",
    "\n",
    "    \"\"\"\n",
    "    check_probability(s)\n",
    "\n",
    "    # The transition probability array\n",
    "    transition = np.zeros((2, n_states, n_states))\n",
    "    # The reward vector\n",
    "    reward = np.zeros(n_states)\n",
    "    # Loop over all states\n",
    "    for idx in range(n_states):\n",
    "        # Get the state index as inputs to our functions\n",
    "        x, F = index_to_state(idx)\n",
    "        # The reward for being in this state is 1 if the population is extant\n",
    "        if x != 0:\n",
    "            reward[idx] = 1\n",
    "        # Loop over all actions\n",
    "        for a in (0,1):\n",
    "            # Assign the transition probabilities for this state, action pair\n",
    "            transition[a][idx] = get_transition_probabilities(s, x, F, a)\n",
    "\n",
    "    return (transition, reward)"
   ]
  },
  {
   "cell_type": "code",
   "execution_count": 62,
   "metadata": {
    "collapsed": true
   },
   "outputs": [],
   "source": [
    "from mdptoolbox import mdp\n",
    "\n",
    "def solve_mdp():\n",
    "    \"\"\"Solve the problem as a finite horizon Markov decision process.\n",
    "\n",
    "    The optimal policy at each stage is found using backwards induction.\n",
    "    Possingham and Tuck report strategies for a 50 year time horizon, so the\n",
    "    number of stages for the finite horizon algorithm is set to 50. There is no\n",
    "    discount factor reported, so we set it to 0.96 rather arbitrarily.\n",
    "\n",
    "    Returns\n",
    "    -------\n",
    "    sdp : mdptoolbox.mdp.FiniteHorizon\n",
    "        The PyMDPtoolbox object that represents a finite horizon MDP. The\n",
    "        optimal policy for each stage is accessed with mdp.policy, which is a\n",
    "        numpy array with 50 columns (one for each stage).\n",
    "\n",
    "    \"\"\"\n",
    "    P, R = get_transition_and_reward_arrays(0.5)\n",
    "    sdp = mdp.FiniteHorizon(P, R, 0.96, 50)\n",
    "    sdp.run()\n",
    "    return sdp"
   ]
  },
  {
   "cell_type": "code",
   "execution_count": 63,
   "metadata": {
    "collapsed": true
   },
   "outputs": [],
   "source": [
    "def print_policy(policy):\n",
    "    \"\"\"Print out a policy vector as a table to console\n",
    "\n",
    "    Let ``S`` = number of states.\n",
    "\n",
    "    The output is a table that has the population class as rows, and the years\n",
    "    since a fire as the columns. The items in the table are the optimal action\n",
    "    for that population class and years since fire combination.\n",
    "\n",
    "    Parameters\n",
    "    ----------\n",
    "    p : array\n",
    "        ``p`` is a numpy array of length ``S``.\n",
    "\n",
    "    \"\"\"\n",
    "    p = np.array(policy).reshape(n_pop_classes, n_fire_classes)\n",
    "    print(\"    \" + \" \".join(\"%2d\" % f for f in range(n_fire_classes)))\n",
    "    print(\"    \" + \"---\" * n_fire_classes)\n",
    "    for x in range(n_pop_classes):\n",
    "        print(\" %2d|\" % x + \" \".join(\"%2d\" % p[x, f] for f in\n",
    "                                     range(n_fire_classes)))"
   ]
  },
  {
   "cell_type": "code",
   "execution_count": 64,
   "metadata": {
    "collapsed": false
   },
   "outputs": [
    {
     "name": "stdout",
     "output_type": "stream",
     "text": [
      "     0  1  2  3  4  5  6  7  8  9 10 11 12\n",
      "    ---------------------------------------\n",
      "  0| 0  0  0  0  0  0  0  0  0  0  0  0  0\n",
      "  1| 0  0  0  0  0  0  0  0  0  0  0  0  0\n",
      "  2| 0  0  0  0  0  0  0  0  0  0  0  0  0\n",
      "  3| 0  0  0  0  0  0  0  0  0  0  0  0  0\n",
      "  4| 0  0  0  0  0  0  0  0  0  0  0  0  0\n",
      "  5| 0  0  0  0  0  0  0  0  0  0  0  0  0\n",
      "  6| 0  0  0  0  0  0  0  1  1  1  1  1  1\n"
     ]
    }
   ],
   "source": [
    "sdp = solve_mdp()\n",
    "print_policy(sdp.policy[:, 0])"
   ]
  },
  {
   "cell_type": "markdown",
   "metadata": {},
   "source": [
    "---\n",
    "\n",
    "## References\n",
    "\n",
    "1. Cordwell, SAW. [Optimal fire management of a threatened species, part 1](http://sawcordwell.github.io/mdp/conservation/2015/01/10/possingham1997-1/), Jan 10, 2015.\n",
    "\n",
    "1.\tPossingham H, Tuck G. Application of Stochastic Dynamic Programming to Optimal Fire Management of a Spatially Structured Threatened Species. In *Proceedings International Congress on Modelling and simulation*; 1997.\n",
    "\n",
    "2.\tZipkin EF, Jennelle CS, Cooch EG. A primer on the application of Markov chains to the study of wildlife disease dynamics. Methods in Ecology and Evolution. 2010;1(2):192–198. doi:10.1111/j.2041-210X.2010.00018.x."
   ]
  },
  {
   "cell_type": "code",
   "execution_count": null,
   "metadata": {
    "collapsed": true
   },
   "outputs": [],
   "source": []
  }
 ],
 "metadata": {
  "kernelspec": {
   "display_name": "Python 3",
   "name": "python3"
  },
  "language_info": {
   "codemirror_mode": {
    "name": "ipython",
    "version": 3
   },
   "file_extension": ".py",
   "mimetype": "text/x-python",
   "name": "python",
   "nbconvert_exporter": "python",
   "pygments_lexer": "ipython3",
   "version": "3.4.2"
  }
 },
 "nbformat": 4,
 "nbformat_minor": 0
}